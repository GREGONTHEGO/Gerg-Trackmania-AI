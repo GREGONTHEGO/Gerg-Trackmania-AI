{
 "cells": [
  {
   "cell_type": "code",
   "execution_count": null,
   "id": "8022e7ad",
   "metadata": {},
   "outputs": [
    {
     "name": "stdout",
     "output_type": "stream",
     "text": [
      "listening on 127.0.0.1 5055\n"
     ]
    }
   ],
   "source": [
    "from pynput.keyboard import Key, Controller\n",
    "import time\n",
    "import os\n",
    "import socket\n",
    "\n",
    "keyboard = Controller()\n",
    "\n",
    "def read_game_state():\n",
    "    state = {}\n",
    "    sock = socket.socket()\n",
    "    sock.bind((\"127.0.0.1\", 5000))\n",
    "    sock.listen(1)\n",
    "    print(\"Waiting for connection...\")\n",
    "    conn, addr = sock.accept()\n",
    "    data = conn.recv(1024).decode('utf-8')\n",
    "    print(\"received data:\", data)\n",
    "    conn.close()\n",
    "    state[0] = data.strip()\n",
    "    return state\n",
    "\n",
    "def control_loop():\n",
    "    while True:\n",
    "        state = read_game_state()\n",
    "        speed = state.get(\"Speed\", 0)\n",
    "\n",
    "        if speed < 100:\n",
    "            keyboard.press('w')\n",
    "        else:\n",
    "            keyboard.release('w')\n",
    "        \n",
    "        time.sleep(0.05)\n",
    "\n",
    "if __name__ == \"__main__\":\n",
    "    control_loop()"
   ]
  }
 ],
 "metadata": {
  "kernelspec": {
   "display_name": "Python (TensorFlow)",
   "language": "python",
   "name": "my_tensorflow_env"
  },
  "language_info": {
   "codemirror_mode": {
    "name": "ipython",
    "version": 3
   },
   "file_extension": ".py",
   "mimetype": "text/x-python",
   "name": "python",
   "nbconvert_exporter": "python",
   "pygments_lexer": "ipython3",
   "version": "3.11.9"
  }
 },
 "nbformat": 4,
 "nbformat_minor": 5
}
